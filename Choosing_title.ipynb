{
 "cells": [
  {
   "cell_type": "markdown",
   "metadata": {},
   "source": [
    "### Group N008:\n",
    "#### <li>Đinh Thanh Toàn 18521504</li>\n",
    "#### <li>Phan Hoàng Nguyên 18521163</li>\n",
    "#### <li>Hồ Đăng Tuệ 18521611</li>\n",
    "\n",
    "### VAI TRÒ CỦA TÊN BÀI, ĐỀ TÀI:\n",
    "Trong xã hội ngày nay, các nhà nghiên cứu ngày càng bận rộn và số lượng các bài báo, đề tài nghiên cứu xuất hiện ngày càng nhiều hơn. Vì thế title đóng vai trò ngày càng quan trọng hơn trong việc đưa bài báo, đề tài đó tiếp cận được đến đại bộ phận những người có nhu cầu. Title chính là ấn tượng đầu đập vào mắt ta, việc có được một title tốt sẽ giúp người đọc dễ dàng tìm đến và chiếm một tỉ lệ lớn trong việc họ có chọn bài báo hay đề tài của bạn đề đọc hay không.\n",
    "Một tiêu đề cụ thể và mạnh mẽ là bước đầu tiên hướng tới trích dẫn, đưa vào phân tích tổng hợp và ảnh hưởng đến lĩnh vực mà bạn nghiên cứu.\n",
    "\n",
    "### VIẾT TITLE LÚC NÀO?\n",
    "Việc chọn và đặt title là một trong những bước đầu trước khi bắt đầu bắt tay vào nghiên cứu (tốt nhất là nên được viết sau khi viết abstract) để có được định hướng đúng. Sau khi viết xong đề tài thì xem lại title một lần nữa để có được title hiệu quả và chính xác nhất.\n",
    "### THẾ NÀO LÀ MỘT TITLE TỐT: \n",
    "- Mô tả chính xác đối tượng và phạm vi nghiên cứu\n",
    "- Ngắn gọn, súc tích (từ 10 đến 15 từ)\n",
    "- Tránh dùng các biệt ngữ, từ viết tắt, hay từ mang nhiều nét nghĩa\n",
    "- Tạo được ấn tượng tích cực và kích thích được thị hiếu đọc giả\n",
    "- Có sự xuất hiện của keyword liên quan đến nội dung\n",
    "\n",
    "### THỰC HÀNH: \n",
    "title: Towards Contextual Learning in Few-Shot Object Classification\n",
    "phân tích: \n",
    "- Title ngắn gọn súc tích\n",
    "- Mô tả đúng trọng tâm nội dung nghiên cứu\n",
    "- Các từ ngữ, thuật ngữ chuyên ngành được sử dụng đơn giản, chính xác \n",
    "- Keyword quan trọng dễ dàng tìm kiếm (Few-Shot learning, Contextual Learning)"
   ]
  }
 ],
 "metadata": {
  "kernelspec": {
   "display_name": "Python 3",
   "language": "python",
   "name": "python3"
  },
  "language_info": {
   "codemirror_mode": {
    "name": "ipython",
    "version": 3
   },
   "file_extension": ".py",
   "mimetype": "text/x-python",
   "name": "python",
   "nbconvert_exporter": "python",
   "pygments_lexer": "ipython3",
   "version": "3.8.2"
  }
 },
 "nbformat": 4,
 "nbformat_minor": 4
}
